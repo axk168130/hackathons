{
 "cells": [
  {
   "cell_type": "markdown",
   "metadata": {
    "tags": [
     "s1",
     "content"
    ]
   },
   "source": [
    "# University of Texas, Dallas - Hackathon Oct 2017\n",
    "\n",
    "\n",
    "## Problem 3: Somerville Happiness Survey\n",
    "                \n"
   ]
  },
  {
   "cell_type": "code",
   "execution_count": null,
   "metadata": {
    "collapsed": true,
    "tags": [
     "s1",
     "ce"
    ]
   },
   "outputs": [],
   "source": [
    "#initial_code, the code written here will be shown to user, write here initial setup to help user get started."
   ]
  },
  {
   "cell_type": "code",
   "execution_count": null,
   "metadata": {
    "collapsed": true,
    "tags": [
     "s1",
     "hid"
    ]
   },
   "outputs": [],
   "source": []
  },
  {
   "cell_type": "markdown",
   "metadata": {},
   "source": [
    "## Importing Libraries"
   ]
  },
  {
   "cell_type": "code",
   "execution_count": 41,
   "metadata": {},
   "outputs": [],
   "source": [
    "import numpy as np\n",
    "import pandas as pd\n",
    "import csv\n",
    "import matplotlib.pyplot as plt\n",
    "import seaborn as sns\n",
    "from sklearn.cross_validation import train_test_split\n",
    "from sklearn.linear_model import LogisticRegression\n",
    "from sklearn.metrics import confusion_matrix\n",
    "from sklearn import metrics\n",
    "%matplotlib inline"
   ]
  },
  {
   "cell_type": "markdown",
   "metadata": {},
   "source": [
    "##  Loading Data"
   ]
  },
  {
   "cell_type": "code",
   "execution_count": 2,
   "metadata": {},
   "outputs": [
    {
     "data": {
      "text/html": [
       "<div>\n",
       "<table border=\"1\" class=\"dataframe\">\n",
       "  <thead>\n",
       "    <tr style=\"text-align: right;\">\n",
       "      <th></th>\n",
       "      <th>Combined_ID</th>\n",
       "      <th>Year</th>\n",
       "      <th>How.satisfied.are.you.with.your.neighborhood.</th>\n",
       "      <th>How.proud.are.you.to.be.a.Somerville.resident._2015</th>\n",
       "      <th>How.would.you.rate.the.following..The.availability.of.information.about.city.services._2015</th>\n",
       "      <th>How.would.you.rate.the.following..The.cost.of.housing.</th>\n",
       "      <th>How.would.you.rate.the.following..The.overall.quality.of.public.schools.</th>\n",
       "      <th>How.would.you.rate.the.following..The.beauty.or.physical.setting.of.Somerville_2013</th>\n",
       "      <th>How.would.you.rate.the.following..Your.trust.in.the.local.police_2015</th>\n",
       "      <th>How.would.you.rate.the.following..The.maintenance.of.streets..sidewalks..and..squares_2013</th>\n",
       "      <th>How.would.you.rate.the.following..The.maintenance.of.streets.and.sidewalks_2015</th>\n",
       "      <th>How.would.you.rate.the.following..The.availability.of.social.community.events</th>\n",
       "      <th>How.safe.do.you.feel.walking.in.your.neighborhood.at.night_2013</th>\n",
       "      <th>How.safe.do.you.feel.walking.in.your.community.at.night._2015</th>\n",
       "      <th>How.satisfied.are.you.with.the.beauty.or.physical.setting.of.your.neighborhood.</th>\n",
       "      <th>How.satisfied.are.you.with.the.appearance.of.parks.in.your.neighborhood._2013</th>\n",
       "      <th>How.satisfied.are.you.with.the.appearance.of.parks.and.squares.in.your.neighborhood.</th>\n",
       "      <th>Ward</th>\n",
       "      <th>Precinct</th>\n",
       "    </tr>\n",
       "  </thead>\n",
       "  <tbody>\n",
       "    <tr>\n",
       "      <th>count</th>\n",
       "      <td>6545.000000</td>\n",
       "      <td>6545.000000</td>\n",
       "      <td>378.000000</td>\n",
       "      <td>182.000000</td>\n",
       "      <td>182.000000</td>\n",
       "      <td>375.000000</td>\n",
       "      <td>281.000000</td>\n",
       "      <td>193.000000</td>\n",
       "      <td>180.000000</td>\n",
       "      <td>192.000000</td>\n",
       "      <td>184.000000</td>\n",
       "      <td>363.000000</td>\n",
       "      <td>192.000000</td>\n",
       "      <td>183.000000</td>\n",
       "      <td>374.000000</td>\n",
       "      <td>190.000000</td>\n",
       "      <td>182.000000</td>\n",
       "      <td>370.000000</td>\n",
       "      <td>370.000000</td>\n",
       "    </tr>\n",
       "    <tr>\n",
       "      <th>mean</th>\n",
       "      <td>3273.000000</td>\n",
       "      <td>2011.172040</td>\n",
       "      <td>7.828042</td>\n",
       "      <td>8.192308</td>\n",
       "      <td>4.241758</td>\n",
       "      <td>2.742667</td>\n",
       "      <td>3.375445</td>\n",
       "      <td>3.466321</td>\n",
       "      <td>3.755556</td>\n",
       "      <td>3.367188</td>\n",
       "      <td>3.527174</td>\n",
       "      <td>4.126722</td>\n",
       "      <td>7.544271</td>\n",
       "      <td>7.803279</td>\n",
       "      <td>6.998663</td>\n",
       "      <td>7.355263</td>\n",
       "      <td>7.675824</td>\n",
       "      <td>4.043243</td>\n",
       "      <td>2.035135</td>\n",
       "    </tr>\n",
       "    <tr>\n",
       "      <th>std</th>\n",
       "      <td>1889.523088</td>\n",
       "      <td>0.735317</td>\n",
       "      <td>1.970823</td>\n",
       "      <td>1.811976</td>\n",
       "      <td>0.838845</td>\n",
       "      <td>1.185268</td>\n",
       "      <td>1.086673</td>\n",
       "      <td>0.879545</td>\n",
       "      <td>0.919207</td>\n",
       "      <td>1.151742</td>\n",
       "      <td>1.163808</td>\n",
       "      <td>0.897619</td>\n",
       "      <td>2.234749</td>\n",
       "      <td>1.965245</td>\n",
       "      <td>2.124004</td>\n",
       "      <td>2.200613</td>\n",
       "      <td>1.853582</td>\n",
       "      <td>1.885121</td>\n",
       "      <td>0.827284</td>\n",
       "    </tr>\n",
       "    <tr>\n",
       "      <th>min</th>\n",
       "      <td>1.000000</td>\n",
       "      <td>2011.000000</td>\n",
       "      <td>1.000000</td>\n",
       "      <td>1.000000</td>\n",
       "      <td>1.000000</td>\n",
       "      <td>1.000000</td>\n",
       "      <td>1.000000</td>\n",
       "      <td>1.000000</td>\n",
       "      <td>1.000000</td>\n",
       "      <td>1.000000</td>\n",
       "      <td>1.000000</td>\n",
       "      <td>1.000000</td>\n",
       "      <td>1.000000</td>\n",
       "      <td>1.000000</td>\n",
       "      <td>1.000000</td>\n",
       "      <td>1.000000</td>\n",
       "      <td>1.000000</td>\n",
       "      <td>1.000000</td>\n",
       "      <td>1.000000</td>\n",
       "    </tr>\n",
       "    <tr>\n",
       "      <th>25%</th>\n",
       "      <td>1637.000000</td>\n",
       "      <td>2011.000000</td>\n",
       "      <td>7.000000</td>\n",
       "      <td>7.000000</td>\n",
       "      <td>4.000000</td>\n",
       "      <td>2.000000</td>\n",
       "      <td>3.000000</td>\n",
       "      <td>3.000000</td>\n",
       "      <td>3.000000</td>\n",
       "      <td>3.000000</td>\n",
       "      <td>3.000000</td>\n",
       "      <td>4.000000</td>\n",
       "      <td>7.000000</td>\n",
       "      <td>7.000000</td>\n",
       "      <td>6.000000</td>\n",
       "      <td>6.000000</td>\n",
       "      <td>7.000000</td>\n",
       "      <td>2.000000</td>\n",
       "      <td>1.000000</td>\n",
       "    </tr>\n",
       "    <tr>\n",
       "      <th>50%</th>\n",
       "      <td>3273.000000</td>\n",
       "      <td>2011.000000</td>\n",
       "      <td>8.000000</td>\n",
       "      <td>9.000000</td>\n",
       "      <td>4.000000</td>\n",
       "      <td>3.000000</td>\n",
       "      <td>3.000000</td>\n",
       "      <td>3.000000</td>\n",
       "      <td>4.000000</td>\n",
       "      <td>4.000000</td>\n",
       "      <td>4.000000</td>\n",
       "      <td>4.000000</td>\n",
       "      <td>8.000000</td>\n",
       "      <td>8.000000</td>\n",
       "      <td>7.000000</td>\n",
       "      <td>8.000000</td>\n",
       "      <td>8.000000</td>\n",
       "      <td>4.000000</td>\n",
       "      <td>2.000000</td>\n",
       "    </tr>\n",
       "    <tr>\n",
       "      <th>75%</th>\n",
       "      <td>4909.000000</td>\n",
       "      <td>2011.000000</td>\n",
       "      <td>9.000000</td>\n",
       "      <td>10.000000</td>\n",
       "      <td>5.000000</td>\n",
       "      <td>4.000000</td>\n",
       "      <td>4.000000</td>\n",
       "      <td>4.000000</td>\n",
       "      <td>4.000000</td>\n",
       "      <td>4.000000</td>\n",
       "      <td>4.000000</td>\n",
       "      <td>5.000000</td>\n",
       "      <td>9.000000</td>\n",
       "      <td>9.000000</td>\n",
       "      <td>8.875000</td>\n",
       "      <td>9.000000</td>\n",
       "      <td>9.000000</td>\n",
       "      <td>6.000000</td>\n",
       "      <td>3.000000</td>\n",
       "    </tr>\n",
       "    <tr>\n",
       "      <th>max</th>\n",
       "      <td>6545.000000</td>\n",
       "      <td>2015.000000</td>\n",
       "      <td>10.000000</td>\n",
       "      <td>10.000000</td>\n",
       "      <td>5.000000</td>\n",
       "      <td>5.000000</td>\n",
       "      <td>5.000000</td>\n",
       "      <td>5.000000</td>\n",
       "      <td>5.000000</td>\n",
       "      <td>5.000000</td>\n",
       "      <td>5.000000</td>\n",
       "      <td>5.000000</td>\n",
       "      <td>10.000000</td>\n",
       "      <td>10.000000</td>\n",
       "      <td>10.000000</td>\n",
       "      <td>10.000000</td>\n",
       "      <td>10.000000</td>\n",
       "      <td>7.000000</td>\n",
       "      <td>3.000000</td>\n",
       "    </tr>\n",
       "  </tbody>\n",
       "</table>\n",
       "</div>"
      ],
      "text/plain": [
       "       Combined_ID         Year  \\\n",
       "count  6545.000000  6545.000000   \n",
       "mean   3273.000000  2011.172040   \n",
       "std    1889.523088     0.735317   \n",
       "min       1.000000  2011.000000   \n",
       "25%    1637.000000  2011.000000   \n",
       "50%    3273.000000  2011.000000   \n",
       "75%    4909.000000  2011.000000   \n",
       "max    6545.000000  2015.000000   \n",
       "\n",
       "       How.satisfied.are.you.with.your.neighborhood.  \\\n",
       "count                                     378.000000   \n",
       "mean                                        7.828042   \n",
       "std                                         1.970823   \n",
       "min                                         1.000000   \n",
       "25%                                         7.000000   \n",
       "50%                                         8.000000   \n",
       "75%                                         9.000000   \n",
       "max                                        10.000000   \n",
       "\n",
       "       How.proud.are.you.to.be.a.Somerville.resident._2015  \\\n",
       "count                                         182.000000     \n",
       "mean                                            8.192308     \n",
       "std                                             1.811976     \n",
       "min                                             1.000000     \n",
       "25%                                             7.000000     \n",
       "50%                                             9.000000     \n",
       "75%                                            10.000000     \n",
       "max                                            10.000000     \n",
       "\n",
       "       How.would.you.rate.the.following..The.availability.of.information.about.city.services._2015  \\\n",
       "count                                         182.000000                                             \n",
       "mean                                            4.241758                                             \n",
       "std                                             0.838845                                             \n",
       "min                                             1.000000                                             \n",
       "25%                                             4.000000                                             \n",
       "50%                                             4.000000                                             \n",
       "75%                                             5.000000                                             \n",
       "max                                             5.000000                                             \n",
       "\n",
       "       How.would.you.rate.the.following..The.cost.of.housing.  \\\n",
       "count                                         375.000000        \n",
       "mean                                            2.742667        \n",
       "std                                             1.185268        \n",
       "min                                             1.000000        \n",
       "25%                                             2.000000        \n",
       "50%                                             3.000000        \n",
       "75%                                             4.000000        \n",
       "max                                             5.000000        \n",
       "\n",
       "       How.would.you.rate.the.following..The.overall.quality.of.public.schools.  \\\n",
       "count                                         281.000000                          \n",
       "mean                                            3.375445                          \n",
       "std                                             1.086673                          \n",
       "min                                             1.000000                          \n",
       "25%                                             3.000000                          \n",
       "50%                                             3.000000                          \n",
       "75%                                             4.000000                          \n",
       "max                                             5.000000                          \n",
       "\n",
       "       How.would.you.rate.the.following..The.beauty.or.physical.setting.of.Somerville_2013  \\\n",
       "count                                         193.000000                                     \n",
       "mean                                            3.466321                                     \n",
       "std                                             0.879545                                     \n",
       "min                                             1.000000                                     \n",
       "25%                                             3.000000                                     \n",
       "50%                                             3.000000                                     \n",
       "75%                                             4.000000                                     \n",
       "max                                             5.000000                                     \n",
       "\n",
       "       How.would.you.rate.the.following..Your.trust.in.the.local.police_2015  \\\n",
       "count                                         180.000000                       \n",
       "mean                                            3.755556                       \n",
       "std                                             0.919207                       \n",
       "min                                             1.000000                       \n",
       "25%                                             3.000000                       \n",
       "50%                                             4.000000                       \n",
       "75%                                             4.000000                       \n",
       "max                                             5.000000                       \n",
       "\n",
       "       How.would.you.rate.the.following..The.maintenance.of.streets..sidewalks..and..squares_2013  \\\n",
       "count                                         192.000000                                            \n",
       "mean                                            3.367188                                            \n",
       "std                                             1.151742                                            \n",
       "min                                             1.000000                                            \n",
       "25%                                             3.000000                                            \n",
       "50%                                             4.000000                                            \n",
       "75%                                             4.000000                                            \n",
       "max                                             5.000000                                            \n",
       "\n",
       "       How.would.you.rate.the.following..The.maintenance.of.streets.and.sidewalks_2015  \\\n",
       "count                                         184.000000                                 \n",
       "mean                                            3.527174                                 \n",
       "std                                             1.163808                                 \n",
       "min                                             1.000000                                 \n",
       "25%                                             3.000000                                 \n",
       "50%                                             4.000000                                 \n",
       "75%                                             4.000000                                 \n",
       "max                                             5.000000                                 \n",
       "\n",
       "       How.would.you.rate.the.following..The.availability.of.social.community.events  \\\n",
       "count                                         363.000000                               \n",
       "mean                                            4.126722                               \n",
       "std                                             0.897619                               \n",
       "min                                             1.000000                               \n",
       "25%                                             4.000000                               \n",
       "50%                                             4.000000                               \n",
       "75%                                             5.000000                               \n",
       "max                                             5.000000                               \n",
       "\n",
       "       How.safe.do.you.feel.walking.in.your.neighborhood.at.night_2013  \\\n",
       "count                                         192.000000                 \n",
       "mean                                            7.544271                 \n",
       "std                                             2.234749                 \n",
       "min                                             1.000000                 \n",
       "25%                                             7.000000                 \n",
       "50%                                             8.000000                 \n",
       "75%                                             9.000000                 \n",
       "max                                            10.000000                 \n",
       "\n",
       "       How.safe.do.you.feel.walking.in.your.community.at.night._2015  \\\n",
       "count                                         183.000000               \n",
       "mean                                            7.803279               \n",
       "std                                             1.965245               \n",
       "min                                             1.000000               \n",
       "25%                                             7.000000               \n",
       "50%                                             8.000000               \n",
       "75%                                             9.000000               \n",
       "max                                            10.000000               \n",
       "\n",
       "       How.satisfied.are.you.with.the.beauty.or.physical.setting.of.your.neighborhood.  \\\n",
       "count                                         374.000000                                 \n",
       "mean                                            6.998663                                 \n",
       "std                                             2.124004                                 \n",
       "min                                             1.000000                                 \n",
       "25%                                             6.000000                                 \n",
       "50%                                             7.000000                                 \n",
       "75%                                             8.875000                                 \n",
       "max                                            10.000000                                 \n",
       "\n",
       "       How.satisfied.are.you.with.the.appearance.of.parks.in.your.neighborhood._2013  \\\n",
       "count                                         190.000000                               \n",
       "mean                                            7.355263                               \n",
       "std                                             2.200613                               \n",
       "min                                             1.000000                               \n",
       "25%                                             6.000000                               \n",
       "50%                                             8.000000                               \n",
       "75%                                             9.000000                               \n",
       "max                                            10.000000                               \n",
       "\n",
       "       How.satisfied.are.you.with.the.appearance.of.parks.and.squares.in.your.neighborhood.  \\\n",
       "count                                         182.000000                                      \n",
       "mean                                            7.675824                                      \n",
       "std                                             1.853582                                      \n",
       "min                                             1.000000                                      \n",
       "25%                                             7.000000                                      \n",
       "50%                                             8.000000                                      \n",
       "75%                                             9.000000                                      \n",
       "max                                            10.000000                                      \n",
       "\n",
       "             Ward    Precinct  \n",
       "count  370.000000  370.000000  \n",
       "mean     4.043243    2.035135  \n",
       "std      1.885121    0.827284  \n",
       "min      1.000000    1.000000  \n",
       "25%      2.000000    1.000000  \n",
       "50%      4.000000    2.000000  \n",
       "75%      6.000000    3.000000  \n",
       "max      7.000000    3.000000  "
      ]
     },
     "execution_count": 2,
     "metadata": {},
     "output_type": "execute_result"
    }
   ],
   "source": [
    "#city.columns\n",
    "city = pd.read_csv('https://data.somervillema.gov/api/views/yevj-2b33/rows.csv')\n",
    "city.describe()"
   ]
  },
  {
   "cell_type": "code",
   "execution_count": 3,
   "metadata": {},
   "outputs": [
    {
     "data": {
      "text/html": [
       "<div>\n",
       "<table border=\"1\" class=\"dataframe\">\n",
       "  <thead>\n",
       "    <tr style=\"text-align: right;\">\n",
       "      <th></th>\n",
       "      <th>Combined_ID</th>\n",
       "      <th>How.happy.do.you.feel.right.now.</th>\n",
       "      <th>How.satisfied.are.you.with.your.life.in.general.</th>\n",
       "      <th>How.satisfied.are.you.with.Somerville.as.a.place.to.live.</th>\n",
       "      <th>In.general..how.similar.are.you.to.other.people.you.know._2011</th>\n",
       "      <th>When.making.decisions..are.you.more.likely.to.seek.advice.or.decide.for.yourself._2011.</th>\n",
       "      <th>How.satisfied.are.you.with.your.neighborhood.</th>\n",
       "      <th>How.proud.are.you.to.be.a.Somerville.resident._2015</th>\n",
       "      <th>How.would.you.rate.the.following..The.availability.of.information.about.city.services._2015</th>\n",
       "      <th>The.availability.of.affordable.housing_2011</th>\n",
       "      <th>...</th>\n",
       "      <th>What.is.your.race.or.ethnicity._2015</th>\n",
       "      <th>Do.you.have.children.age.18.or.younger.who.live.with.you.</th>\n",
       "      <th>Describe.your.housing.status.in.Somerville.</th>\n",
       "      <th>Do.you.plan.to.move.away.from.Somerville.in.the.next.two.years.</th>\n",
       "      <th>How.long.have.you.lived.here.</th>\n",
       "      <th>What.is.your.annual.household.income.</th>\n",
       "      <th>What.neighborhood.do.you.live.in.</th>\n",
       "      <th>Are.you.a.student.</th>\n",
       "      <th>Ward</th>\n",
       "      <th>Precinct</th>\n",
       "    </tr>\n",
       "    <tr>\n",
       "      <th>Year</th>\n",
       "      <th></th>\n",
       "      <th></th>\n",
       "      <th></th>\n",
       "      <th></th>\n",
       "      <th></th>\n",
       "      <th></th>\n",
       "      <th></th>\n",
       "      <th></th>\n",
       "      <th></th>\n",
       "      <th></th>\n",
       "      <th></th>\n",
       "      <th></th>\n",
       "      <th></th>\n",
       "      <th></th>\n",
       "      <th></th>\n",
       "      <th></th>\n",
       "      <th></th>\n",
       "      <th></th>\n",
       "      <th></th>\n",
       "      <th></th>\n",
       "      <th></th>\n",
       "    </tr>\n",
       "  </thead>\n",
       "  <tbody>\n",
       "    <tr>\n",
       "      <th>2011</th>\n",
       "      <td>6167</td>\n",
       "      <td>6167</td>\n",
       "      <td>6167</td>\n",
       "      <td>6167</td>\n",
       "      <td>6167</td>\n",
       "      <td>6167</td>\n",
       "      <td>0</td>\n",
       "      <td>0</td>\n",
       "      <td>0</td>\n",
       "      <td>6167</td>\n",
       "      <td>...</td>\n",
       "      <td>0</td>\n",
       "      <td>0</td>\n",
       "      <td>0</td>\n",
       "      <td>0</td>\n",
       "      <td>6167</td>\n",
       "      <td>6167</td>\n",
       "      <td>0</td>\n",
       "      <td>0</td>\n",
       "      <td>0</td>\n",
       "      <td>0</td>\n",
       "    </tr>\n",
       "    <tr>\n",
       "      <th>2013</th>\n",
       "      <td>193</td>\n",
       "      <td>193</td>\n",
       "      <td>193</td>\n",
       "      <td>193</td>\n",
       "      <td>0</td>\n",
       "      <td>0</td>\n",
       "      <td>193</td>\n",
       "      <td>0</td>\n",
       "      <td>0</td>\n",
       "      <td>0</td>\n",
       "      <td>...</td>\n",
       "      <td>0</td>\n",
       "      <td>187</td>\n",
       "      <td>0</td>\n",
       "      <td>187</td>\n",
       "      <td>184</td>\n",
       "      <td>160</td>\n",
       "      <td>180</td>\n",
       "      <td>186</td>\n",
       "      <td>191</td>\n",
       "      <td>191</td>\n",
       "    </tr>\n",
       "    <tr>\n",
       "      <th>2015</th>\n",
       "      <td>185</td>\n",
       "      <td>184</td>\n",
       "      <td>183</td>\n",
       "      <td>185</td>\n",
       "      <td>0</td>\n",
       "      <td>0</td>\n",
       "      <td>185</td>\n",
       "      <td>182</td>\n",
       "      <td>182</td>\n",
       "      <td>0</td>\n",
       "      <td>...</td>\n",
       "      <td>182</td>\n",
       "      <td>183</td>\n",
       "      <td>181</td>\n",
       "      <td>172</td>\n",
       "      <td>182</td>\n",
       "      <td>157</td>\n",
       "      <td>179</td>\n",
       "      <td>181</td>\n",
       "      <td>179</td>\n",
       "      <td>179</td>\n",
       "    </tr>\n",
       "  </tbody>\n",
       "</table>\n",
       "<p>3 rows × 42 columns</p>\n",
       "</div>"
      ],
      "text/plain": [
       "      Combined_ID  How.happy.do.you.feel.right.now.  \\\n",
       "Year                                                  \n",
       "2011         6167                              6167   \n",
       "2013          193                               193   \n",
       "2015          185                               184   \n",
       "\n",
       "      How.satisfied.are.you.with.your.life.in.general.  \\\n",
       "Year                                                     \n",
       "2011                                              6167   \n",
       "2013                                               193   \n",
       "2015                                               183   \n",
       "\n",
       "      How.satisfied.are.you.with.Somerville.as.a.place.to.live.  \\\n",
       "Year                                                              \n",
       "2011                                               6167           \n",
       "2013                                                193           \n",
       "2015                                                185           \n",
       "\n",
       "      In.general..how.similar.are.you.to.other.people.you.know._2011  \\\n",
       "Year                                                                   \n",
       "2011                                               6167                \n",
       "2013                                                  0                \n",
       "2015                                                  0                \n",
       "\n",
       "      When.making.decisions..are.you.more.likely.to.seek.advice.or.decide.for.yourself._2011.  \\\n",
       "Year                                                                                            \n",
       "2011                                               6167                                         \n",
       "2013                                                  0                                         \n",
       "2015                                                  0                                         \n",
       "\n",
       "      How.satisfied.are.you.with.your.neighborhood.  \\\n",
       "Year                                                  \n",
       "2011                                              0   \n",
       "2013                                            193   \n",
       "2015                                            185   \n",
       "\n",
       "      How.proud.are.you.to.be.a.Somerville.resident._2015  \\\n",
       "Year                                                        \n",
       "2011                                                  0     \n",
       "2013                                                  0     \n",
       "2015                                                182     \n",
       "\n",
       "      How.would.you.rate.the.following..The.availability.of.information.about.city.services._2015  \\\n",
       "Year                                                                                                \n",
       "2011                                                  0                                             \n",
       "2013                                                  0                                             \n",
       "2015                                                182                                             \n",
       "\n",
       "      The.availability.of.affordable.housing_2011    ...     \\\n",
       "Year                                                 ...      \n",
       "2011                                         6167    ...      \n",
       "2013                                            0    ...      \n",
       "2015                                            0    ...      \n",
       "\n",
       "      What.is.your.race.or.ethnicity._2015  \\\n",
       "Year                                         \n",
       "2011                                     0   \n",
       "2013                                     0   \n",
       "2015                                   182   \n",
       "\n",
       "      Do.you.have.children.age.18.or.younger.who.live.with.you.  \\\n",
       "Year                                                              \n",
       "2011                                                  0           \n",
       "2013                                                187           \n",
       "2015                                                183           \n",
       "\n",
       "      Describe.your.housing.status.in.Somerville.  \\\n",
       "Year                                                \n",
       "2011                                            0   \n",
       "2013                                            0   \n",
       "2015                                          181   \n",
       "\n",
       "      Do.you.plan.to.move.away.from.Somerville.in.the.next.two.years.  \\\n",
       "Year                                                                    \n",
       "2011                                                  0                 \n",
       "2013                                                187                 \n",
       "2015                                                172                 \n",
       "\n",
       "      How.long.have.you.lived.here.  What.is.your.annual.household.income.  \\\n",
       "Year                                                                         \n",
       "2011                           6167                                   6167   \n",
       "2013                            184                                    160   \n",
       "2015                            182                                    157   \n",
       "\n",
       "      What.neighborhood.do.you.live.in.  Are.you.a.student.  Ward  Precinct  \n",
       "Year                                                                         \n",
       "2011                                  0                   0     0         0  \n",
       "2013                                180                 186   191       191  \n",
       "2015                                179                 181   179       179  \n",
       "\n",
       "[3 rows x 42 columns]"
      ]
     },
     "execution_count": 3,
     "metadata": {},
     "output_type": "execute_result"
    }
   ],
   "source": [
    "city.groupby(by='Year',axis=0).count()"
   ]
  },
  {
   "cell_type": "markdown",
   "metadata": {},
   "source": [
    "### Divided the dataset by year"
   ]
  },
  {
   "cell_type": "code",
   "execution_count": 5,
   "metadata": {},
   "outputs": [],
   "source": [
    "city_2011 = city[city.Year == 2011]\n",
    "city_2013 = city[city.Year == 2013]\n",
    "city_2015 = city[city.Year == 2015]"
   ]
  },
  {
   "cell_type": "markdown",
   "metadata": {},
   "source": [
    "#### Creating a list of the columns with all values as NA for year 2011"
   ]
  },
  {
   "cell_type": "code",
   "execution_count": 6,
   "metadata": {},
   "outputs": [],
   "source": [
    "na_col_list = city_2011.columns[city_2011.isnull().all()].tolist()"
   ]
  },
  {
   "cell_type": "code",
   "execution_count": 7,
   "metadata": {},
   "outputs": [],
   "source": [
    "city_2011_nonull = city_2011.drop(na_col_list,axis=1)"
   ]
  },
  {
   "cell_type": "code",
   "execution_count": 8,
   "metadata": {},
   "outputs": [
    {
     "data": {
      "text/html": [
       "<div>\n",
       "<table border=\"1\" class=\"dataframe\">\n",
       "  <thead>\n",
       "    <tr style=\"text-align: right;\">\n",
       "      <th></th>\n",
       "      <th>Combined_ID</th>\n",
       "      <th>Year</th>\n",
       "      <th>How.happy.do.you.feel.right.now.</th>\n",
       "      <th>How.satisfied.are.you.with.your.life.in.general.</th>\n",
       "      <th>How.satisfied.are.you.with.Somerville.as.a.place.to.live.</th>\n",
       "      <th>In.general..how.similar.are.you.to.other.people.you.know._2011</th>\n",
       "      <th>When.making.decisions..are.you.more.likely.to.seek.advice.or.decide.for.yourself._2011.</th>\n",
       "      <th>The.availability.of.affordable.housing_2011</th>\n",
       "      <th>How.would.you.rate.the.following..The.overall.quality.of.public.schools.in.your.community._2011</th>\n",
       "      <th>How.would.you.rate.the.following..The.beauty.or.physical.setting_2011</th>\n",
       "      <th>How.would.you.rate.the.following..The.effectiveness.of.the.local.police_2011_2013</th>\n",
       "      <th>What.is.your.gender._2011</th>\n",
       "      <th>Age.</th>\n",
       "      <th>Marital.status._2011</th>\n",
       "      <th>What.is.your.race_2011_2013</th>\n",
       "      <th>How.long.have.you.lived.here.</th>\n",
       "      <th>What.is.your.annual.household.income.</th>\n",
       "    </tr>\n",
       "  </thead>\n",
       "  <tbody>\n",
       "    <tr>\n",
       "      <th>378</th>\n",
       "      <td>379</td>\n",
       "      <td>2011</td>\n",
       "      <td>10</td>\n",
       "      <td>10</td>\n",
       "      <td>10</td>\n",
       "      <td>10</td>\n",
       "      <td>10</td>\n",
       "      <td>4</td>\n",
       "      <td>5</td>\n",
       "      <td>4</td>\n",
       "      <td>5</td>\n",
       "      <td>Male</td>\n",
       "      <td>61+</td>\n",
       "      <td>Married</td>\n",
       "      <td>White, non-Hispanic</td>\n",
       "      <td>18+</td>\n",
       "      <td>Less than $10,000</td>\n",
       "    </tr>\n",
       "    <tr>\n",
       "      <th>379</th>\n",
       "      <td>380</td>\n",
       "      <td>2011</td>\n",
       "      <td>8</td>\n",
       "      <td>9</td>\n",
       "      <td>9</td>\n",
       "      <td>7</td>\n",
       "      <td>2</td>\n",
       "      <td>5</td>\n",
       "      <td>r</td>\n",
       "      <td>5</td>\n",
       "      <td>5</td>\n",
       "      <td>Female</td>\n",
       "      <td>26-30</td>\n",
       "      <td>Single, Never Married</td>\n",
       "      <td>White, non-Hispanic</td>\n",
       "      <td>0-5 Years</td>\n",
       "      <td>70,000 - $79,999</td>\n",
       "    </tr>\n",
       "    <tr>\n",
       "      <th>380</th>\n",
       "      <td>381</td>\n",
       "      <td>2011</td>\n",
       "      <td>7</td>\n",
       "      <td>7</td>\n",
       "      <td>8</td>\n",
       "      <td>7</td>\n",
       "      <td>7</td>\n",
       "      <td>2</td>\n",
       "      <td>3</td>\n",
       "      <td>3</td>\n",
       "      <td>4</td>\n",
       "      <td>Male</td>\n",
       "      <td>61+</td>\n",
       "      <td>Married</td>\n",
       "      <td>White, non-Hispanic</td>\n",
       "      <td>18+</td>\n",
       "      <td>10,000 - $19,999</td>\n",
       "    </tr>\n",
       "    <tr>\n",
       "      <th>381</th>\n",
       "      <td>382</td>\n",
       "      <td>2011</td>\n",
       "      <td>9</td>\n",
       "      <td>7</td>\n",
       "      <td>10</td>\n",
       "      <td>6</td>\n",
       "      <td>9</td>\n",
       "      <td>r</td>\n",
       "      <td>r</td>\n",
       "      <td>2</td>\n",
       "      <td>5</td>\n",
       "      <td>Female</td>\n",
       "      <td>61+</td>\n",
       "      <td>Divorced</td>\n",
       "      <td>White, non-Hispanic</td>\n",
       "      <td>18+</td>\n",
       "      <td>50,000 - $59,999</td>\n",
       "    </tr>\n",
       "    <tr>\n",
       "      <th>382</th>\n",
       "      <td>383</td>\n",
       "      <td>2011</td>\n",
       "      <td>4</td>\n",
       "      <td>4</td>\n",
       "      <td>6</td>\n",
       "      <td>8</td>\n",
       "      <td>6</td>\n",
       "      <td>2</td>\n",
       "      <td>3</td>\n",
       "      <td>4</td>\n",
       "      <td>3</td>\n",
       "      <td>Male</td>\n",
       "      <td>26-30</td>\n",
       "      <td>Single, Never Married</td>\n",
       "      <td>White, non-Hispanic</td>\n",
       "      <td>0-5 Years</td>\n",
       "      <td>20,000 - $29,999</td>\n",
       "    </tr>\n",
       "  </tbody>\n",
       "</table>\n",
       "</div>"
      ],
      "text/plain": [
       "     Combined_ID  Year How.happy.do.you.feel.right.now.  \\\n",
       "378          379  2011                               10   \n",
       "379          380  2011                                8   \n",
       "380          381  2011                                7   \n",
       "381          382  2011                                9   \n",
       "382          383  2011                                4   \n",
       "\n",
       "    How.satisfied.are.you.with.your.life.in.general.  \\\n",
       "378                                               10   \n",
       "379                                                9   \n",
       "380                                                7   \n",
       "381                                                7   \n",
       "382                                                4   \n",
       "\n",
       "    How.satisfied.are.you.with.Somerville.as.a.place.to.live.  \\\n",
       "378                                                 10          \n",
       "379                                                  9          \n",
       "380                                                  8          \n",
       "381                                                 10          \n",
       "382                                                  6          \n",
       "\n",
       "    In.general..how.similar.are.you.to.other.people.you.know._2011  \\\n",
       "378                                                 10               \n",
       "379                                                  7               \n",
       "380                                                  7               \n",
       "381                                                  6               \n",
       "382                                                  8               \n",
       "\n",
       "    When.making.decisions..are.you.more.likely.to.seek.advice.or.decide.for.yourself._2011.  \\\n",
       "378                                                 10                                        \n",
       "379                                                  2                                        \n",
       "380                                                  7                                        \n",
       "381                                                  9                                        \n",
       "382                                                  6                                        \n",
       "\n",
       "    The.availability.of.affordable.housing_2011  \\\n",
       "378                                           4   \n",
       "379                                           5   \n",
       "380                                           2   \n",
       "381                                           r   \n",
       "382                                           2   \n",
       "\n",
       "    How.would.you.rate.the.following..The.overall.quality.of.public.schools.in.your.community._2011  \\\n",
       "378                                                  5                                                \n",
       "379                                                  r                                                \n",
       "380                                                  3                                                \n",
       "381                                                  r                                                \n",
       "382                                                  3                                                \n",
       "\n",
       "    How.would.you.rate.the.following..The.beauty.or.physical.setting_2011  \\\n",
       "378                                                  4                      \n",
       "379                                                  5                      \n",
       "380                                                  3                      \n",
       "381                                                  2                      \n",
       "382                                                  4                      \n",
       "\n",
       "    How.would.you.rate.the.following..The.effectiveness.of.the.local.police_2011_2013  \\\n",
       "378                                                  5                                  \n",
       "379                                                  5                                  \n",
       "380                                                  4                                  \n",
       "381                                                  5                                  \n",
       "382                                                  3                                  \n",
       "\n",
       "    What.is.your.gender._2011   Age.   Marital.status._2011  \\\n",
       "378                      Male    61+                Married   \n",
       "379                    Female  26-30  Single, Never Married   \n",
       "380                      Male    61+                Married   \n",
       "381                    Female    61+               Divorced   \n",
       "382                      Male  26-30  Single, Never Married   \n",
       "\n",
       "    What.is.your.race_2011_2013 How.long.have.you.lived.here.  \\\n",
       "378         White, non-Hispanic                           18+   \n",
       "379         White, non-Hispanic                     0-5 Years   \n",
       "380         White, non-Hispanic                           18+   \n",
       "381         White, non-Hispanic                           18+   \n",
       "382         White, non-Hispanic                     0-5 Years   \n",
       "\n",
       "    What.is.your.annual.household.income.  \n",
       "378                     Less than $10,000  \n",
       "379                      70,000 - $79,999  \n",
       "380                      10,000 - $19,999  \n",
       "381                      50,000 - $59,999  \n",
       "382                      20,000 - $29,999  "
      ]
     },
     "execution_count": 8,
     "metadata": {},
     "output_type": "execute_result"
    }
   ],
   "source": [
    "city_2011_nonull.shape\n",
    "city_2011_nonull.head(5)"
   ]
  },
  {
   "cell_type": "code",
   "execution_count": 9,
   "metadata": {},
   "outputs": [
    {
     "data": {
      "text/plain": [
       "Index(['Combined_ID', 'Year', 'How.happy.do.you.feel.right.now.',\n",
       "       'How.satisfied.are.you.with.your.life.in.general.',\n",
       "       'How.satisfied.are.you.with.Somerville.as.a.place.to.live.',\n",
       "       'In.general..how.similar.are.you.to.other.people.you.know._2011',\n",
       "       'When.making.decisions..are.you.more.likely.to.seek.advice.or.decide.for.yourself._2011.',\n",
       "       'The.availability.of.affordable.housing_2011',\n",
       "       'How.would.you.rate.the.following..The.overall.quality.of.public.schools.in.your.community._2011',\n",
       "       'How.would.you.rate.the.following..The.beauty.or.physical.setting_2011',\n",
       "       'How.would.you.rate.the.following..The.effectiveness.of.the.local.police_2011_2013',\n",
       "       'What.is.your.gender._2011', 'Age.', 'Marital.status._2011',\n",
       "       'What.is.your.race_2011_2013', 'How.long.have.you.lived.here.',\n",
       "       'What.is.your.annual.household.income.'],\n",
       "      dtype='object')"
      ]
     },
     "execution_count": 9,
     "metadata": {},
     "output_type": "execute_result"
    }
   ],
   "source": [
    "contents2011 = city_2011_nonull.columns\n",
    "contents2011"
   ]
  },
  {
   "cell_type": "markdown",
   "metadata": {},
   "source": [
    "#### Dropping the columns with null values for Year 2013 and 2015"
   ]
  },
  {
   "cell_type": "code",
   "execution_count": 10,
   "metadata": {
    "collapsed": true
   },
   "outputs": [],
   "source": [
    "### This is for the 2013 year\n",
    "na_col_list = city_2013.columns[city_2013.isnull().all()].tolist()\n",
    "city_2013_nonull = city_2013.drop(na_col_list,axis=1)\n",
    "\n",
    "### This is for the 2015 year\n",
    "na_col_list = city_2015.columns[city_2015.isnull().all()].tolist()\n",
    "city_2015_nonull = city_2015.drop(na_col_list,axis=1)"
   ]
  },
  {
   "cell_type": "code",
   "execution_count": 11,
   "metadata": {},
   "outputs": [
    {
     "data": {
      "text/plain": [
       "Index(['Combined_ID', 'Year', 'How.happy.do.you.feel.right.now.',\n",
       "       'How.satisfied.are.you.with.your.life.in.general.',\n",
       "       'How.satisfied.are.you.with.Somerville.as.a.place.to.live.',\n",
       "       'How.satisfied.are.you.with.your.neighborhood.',\n",
       "       'How.proud.are.you.to.be.a.Somerville.resident._2015',\n",
       "       'How.would.you.rate.the.following..The.availability.of.information.about.city.services._2015',\n",
       "       'How.would.you.rate.the.following..The.cost.of.housing.',\n",
       "       'How.would.you.rate.the.following..The.overall.quality.of.public.schools.',\n",
       "       'How.would.you.rate.the.following..Your.trust.in.the.local.police_2015',\n",
       "       'How.would.you.rate.the.following..The.maintenance.of.streets.and.sidewalks_2015',\n",
       "       'How.would.you.rate.the.following..The.availability.of.social.community.events',\n",
       "       'How.safe.do.you.feel.walking.in.your.community.at.night._2015',\n",
       "       'How.satisfied.are.you.with.the.beauty.or.physical.setting.of.your.neighborhood.',\n",
       "       'How.satisfied.are.you.with.the.appearance.of.parks.and.squares.in.your.neighborhood.',\n",
       "       'What.is.your.sex.', 'Age.',\n",
       "       'What.language..other.than.English..do.you.speak.at.home._2015',\n",
       "       'What.is.your.race.or.ethnicity._2015',\n",
       "       'Do.you.have.children.age.18.or.younger.who.live.with.you.',\n",
       "       'Describe.your.housing.status.in.Somerville.',\n",
       "       'Do.you.plan.to.move.away.from.Somerville.in.the.next.two.years.',\n",
       "       'How.long.have.you.lived.here.',\n",
       "       'What.is.your.annual.household.income.',\n",
       "       'What.neighborhood.do.you.live.in.', 'Are.you.a.student.', 'Ward',\n",
       "       'Precinct'],\n",
       "      dtype='object')"
      ]
     },
     "execution_count": 11,
     "metadata": {},
     "output_type": "execute_result"
    }
   ],
   "source": [
    "contents2015 = city_2015_nonull.columns\n",
    "contents2015"
   ]
  },
  {
   "cell_type": "markdown",
   "metadata": {},
   "source": [
    "### Keeping the columns which are common in all years"
   ]
  },
  {
   "cell_type": "code",
   "execution_count": 12,
   "metadata": {},
   "outputs": [
    {
     "data": {
      "text/plain": [
       "(6167, 12)"
      ]
     },
     "execution_count": 12,
     "metadata": {},
     "output_type": "execute_result"
    }
   ],
   "source": [
    "rem2011 = ['The.availability.of.affordable.housing_2011',\n",
    "           'How.would.you.rate.the.following..The.beauty.or.physical.setting_2011',\n",
    "           'When.making.decisions..are.you.more.likely.to.seek.advice.or.decide.for.yourself._2011.',\n",
    "           'In.general..how.similar.are.you.to.other.people.you.know._2011',\n",
    "            'Marital.status._2011']\n",
    "\n",
    "city_2011_raw = city_2011_nonull.drop(rem2011, axis=1)\n",
    "\n",
    "city_2011_raw.shape"
   ]
  },
  {
   "cell_type": "code",
   "execution_count": 14,
   "metadata": {
    "collapsed": true
   },
   "outputs": [],
   "source": [
    "rem2013 = ['How.would.you.rate.the.following..The.cost.of.housing.',\n",
    "           'How.would.you.rate.the.following..The.beauty.or.physical.setting.of.Somerville_2013',\n",
    "           'How.satisfied.are.you.with.your.neighborhood.',\n",
    "           'How.would.you.rate.the.following..The.availability.of.social.community.events',\n",
    "           'How.safe.do.you.feel.walking.in.your.neighborhood.at.night_2013',\n",
    "           'How.would.you.rate.the.following..The.maintenance.of.streets..sidewalks..and..squares_2013',\n",
    "           'How.satisfied.are.you.with.the.beauty.or.physical.setting.of.your.neighborhood.',\n",
    "           'How.satisfied.are.you.with.the.appearance.of.parks.in.your.neighborhood._2013',\n",
    "           'Are.you.of.Hispanic..Latino..or.Spanish.origin._2013',\n",
    "           'Do.you.have.children.age.18.or.younger.who.live.with.you.',\n",
    "           'Do.you.plan.to.move.away.from.Somerville.in.the.next.two.years.',\n",
    "           'What.neighborhood.do.you.live.in.', 'Are.you.a.student.', 'Ward',\n",
    "           'Precinct']\n",
    "\n",
    "city_2013_raw = city_2013_nonull.drop(rem2013,axis = 1)"
   ]
  },
  {
   "cell_type": "code",
   "execution_count": 15,
   "metadata": {},
   "outputs": [
    {
     "data": {
      "text/plain": [
       "(185, 12)"
      ]
     },
     "execution_count": 15,
     "metadata": {},
     "output_type": "execute_result"
    }
   ],
   "source": [
    "### Delelting the columns from 2015 which are not there in 2011\n",
    "\n",
    "rem2015 = ['How.proud.are.you.to.be.a.Somerville.resident._2015',\n",
    "          'How.would.you.rate.the.following..The.availability.of.information.about.city.services._2015',\n",
    "          'How.would.you.rate.the.following..The.cost.of.housing.',\n",
    "          'How.would.you.rate.the.following..The.maintenance.of.streets.and.sidewalks_2015',\n",
    "          'How.would.you.rate.the.following..The.availability.of.social.community.events',\n",
    "          'How.safe.do.you.feel.walking.in.your.community.at.night._2015',\n",
    "          'How.satisfied.are.you.with.the.beauty.or.physical.setting.of.your.neighborhood.',\n",
    "          'How.satisfied.are.you.with.the.appearance.of.parks.and.squares.in.your.neighborhood.',\n",
    "          'What.language..other.than.English..do.you.speak.at.home._2015',\n",
    "          'Do.you.have.children.age.18.or.younger.who.live.with.you.',\n",
    "          'Describe.your.housing.status.in.Somerville.',\n",
    "          'Do.you.plan.to.move.away.from.Somerville.in.the.next.two.years.',\n",
    "          'What.neighborhood.do.you.live.in.', 'Are.you.a.student.', 'Ward',\n",
    "          'How.satisfied.are.you.with.your.neighborhood.',\n",
    "          'Precinct']\n",
    "\n",
    "city_2015_raw = city_2015_nonull.drop(rem2015, axis=1)\n",
    "\n",
    "city_2015_raw.shape"
   ]
  },
  {
   "cell_type": "markdown",
   "metadata": {},
   "source": [
    "### Modifying the column names for better data consistency"
   ]
  },
  {
   "cell_type": "code",
   "execution_count": 17,
   "metadata": {
    "collapsed": true
   },
   "outputs": [],
   "source": [
    "renamed_cols = ['Combined_ID','year','happiness_index','satisfaction_life_index','satisfaction_place_index','quality_public_schools',\n",
    "'local_police_effectiveness','sex','age','race','time_lived','annual_household_income']"
   ]
  },
  {
   "cell_type": "code",
   "execution_count": 20,
   "metadata": {
    "collapsed": true
   },
   "outputs": [],
   "source": [
    "city_2011_raw.columns = renamed_cols\n",
    "\n",
    "city_2015_raw.columns = renamed_cols\n",
    "\n",
    "city_2013_raw.columns = renamed_cols"
   ]
  },
  {
   "cell_type": "markdown",
   "metadata": {},
   "source": [
    "### Merged the three datasets "
   ]
  },
  {
   "cell_type": "code",
   "execution_count": 21,
   "metadata": {},
   "outputs": [
    {
     "data": {
      "text/plain": [
       "(6545, 12)"
      ]
     },
     "execution_count": 21,
     "metadata": {},
     "output_type": "execute_result"
    }
   ],
   "source": [
    "data = [city_2011_raw,city_2013_raw,city_2015_raw]\n",
    "\n",
    "city_final = pd.concat(data)\n",
    "\n",
    "city_final.shape"
   ]
  },
  {
   "cell_type": "markdown",
   "metadata": {},
   "source": [
    "#### Dropping the combinedID columns as Column ID is not significant for the model"
   ]
  },
  {
   "cell_type": "code",
   "execution_count": 22,
   "metadata": {},
   "outputs": [],
   "source": [
    "city_final1 = city_final.drop('Combined_ID',axis=1)\n",
    "\n",
    "\n",
    "### Dropping the rows having Null target value \n",
    "\n",
    "city_final1 = city_final1[city_final1.happiness_index.notnull()]"
   ]
  },
  {
   "cell_type": "code",
   "execution_count": 23,
   "metadata": {},
   "outputs": [
    {
     "data": {
      "text/plain": [
       "(6544, 11)"
      ]
     },
     "execution_count": 23,
     "metadata": {},
     "output_type": "execute_result"
    }
   ],
   "source": [
    "renamed_cols1 = ['year','happiness_index','satisfaction_life_index','satisfaction_place_index','quality_public_schools',\n",
    "'local_police_effectiveness','sex','age','race','time_lived','annual_household_income']\n",
    "city_final1.shape"
   ]
  },
  {
   "cell_type": "markdown",
   "metadata": {},
   "source": [
    "### Removing non-numeric values from the entire dataset"
   ]
  },
  {
   "cell_type": "code",
   "execution_count": 24,
   "metadata": {},
   "outputs": [
    {
     "data": {
      "text/plain": [
       "6388"
      ]
     },
     "execution_count": 24,
     "metadata": {},
     "output_type": "execute_result"
    }
   ],
   "source": [
    "df = city_final1.applymap(lambda x: 'NA' if (x == '9*' or x == 'R' or x == 'i' or x == 'X' or x == 'r' or x == 'F' or x == 'n'\n",
    "                                             or x == 'e' or x == '3f' or x == '5/27/2011' or x == '5/19/2011'\n",
    "                                            or x == '6/6/2011' or x == '6/1/2011') else x)\n",
    "\n",
    "len(df)\n",
    "\n",
    "df1 = df.dropna(axis=0,how='any')\n",
    "\n",
    "len(df1)"
   ]
  },
  {
   "cell_type": "markdown",
   "metadata": {},
   "source": [
    "### Extracting the Target Variable"
   ]
  },
  {
   "cell_type": "code",
   "execution_count": 34,
   "metadata": {},
   "outputs": [],
   "source": [
    "city_final_target = df1['happiness_index']\n",
    "\n",
    "city_final_var = df1.drop('happiness_index',axis=1)"
   ]
  },
  {
   "cell_type": "markdown",
   "metadata": {},
   "source": [
    "### Creating the dummy variables for the categorical variables"
   ]
  },
  {
   "cell_type": "code",
   "execution_count": 54,
   "metadata": {},
   "outputs": [
    {
     "data": {
      "text/plain": [
       "(6388, 154)"
      ]
     },
     "execution_count": 54,
     "metadata": {},
     "output_type": "execute_result"
    }
   ],
   "source": [
    "city_final_var = pd.get_dummies(city_final_var)\n",
    "city_final_var.shape"
   ]
  },
  {
   "cell_type": "markdown",
   "metadata": {},
   "source": [
    "### Splitting the dataset into Train and Test sets: 70 - 30"
   ]
  },
  {
   "cell_type": "code",
   "execution_count": 36,
   "metadata": {},
   "outputs": [],
   "source": [
    "X_train, X_test, y_train, y_test = train_test_split(city_final_var, city_final_target , test_size=0.3, random_state=0)\n",
    "\n",
    "happiness_model1 = LogisticRegression(random_state=0)\n",
    "\n",
    "happiness_model = happiness_model1.fit(X_train,y_train)"
   ]
  },
  {
   "cell_type": "markdown",
   "metadata": {},
   "source": [
    "### Building Confusion Matrix"
   ]
  },
  {
   "cell_type": "code",
   "execution_count": 37,
   "metadata": {},
   "outputs": [
    {
     "name": "stdout",
     "output_type": "stream",
     "text": [
      "[[ 18   4   2   1   1   0   0   2   0   0   1   0   0   0   0   0]\n",
      " [  0 199   0   0   0   1   0   1   3   0  25   0   0  21   0   1]\n",
      " [  2   0   5   3   3   2   0   1   1   0   3   0   0   1   0   0]\n",
      " [  0   0   5  17   5   9   0   8   4   0   5   0   0   2   0   0]\n",
      " [  2   0   2   5  27  13   0  10   6   0   4   0   0   0   0   0]\n",
      " [  0   1   0   4  16  63   0  13  14   0   7   0   0   4   0   0]\n",
      " [  0   0   0   1   0   1   0   0   1   0   0   0   0   1   0   0]\n",
      " [  0   3   0   1  11   9   0  56  34   0  24   0   0   3   0   3]\n",
      " [  0   5   0   0   5  13   0  43 167   0  93   0   0  25   0   0]\n",
      " [  0   0   0   0   0   0   0   0   0   4   2   0   0   0   0   0]\n",
      " [  0  21   0   2   1   4   0  13  78   0 304   0   0 109   0   2]\n",
      " [  0   0   0   0   0   0   0   0   0   1   0   2   0   1   0   0]\n",
      " [  0   0   0   0   0   0   0   0   0   0   1   0   0   0   0   0]\n",
      " [  1  27   0   0   0   1   0   3  10   0  49   0   0 191   0   0]\n",
      " [  0   0   0   0   0   0   0   0   1   0   2   0   0   1   0   0]\n",
      " [  0   2   0   1   0   0   0   1   0   0   3   0   0   1   0  32]]\n"
     ]
    }
   ],
   "source": [
    "Y_HAT = happiness_model.predict(X_test)\n",
    "\n",
    "conf_matrix = confusion_matrix(y_test,Y_HAT)\n",
    "\n",
    "print(conf_matrix)"
   ]
  },
  {
   "cell_type": "markdown",
   "metadata": {},
   "source": [
    "### Calculating the Accuracy of the model"
   ]
  },
  {
   "cell_type": "code",
   "execution_count": 64,
   "metadata": {},
   "outputs": [
    {
     "name": "stdout",
     "output_type": "stream",
     "text": [
      "Accuracy of logistic regression classifier on test set 0.57 \n"
     ]
    },
    {
     "data": {
      "text/plain": [
       "0.56598852373500264"
      ]
     },
     "execution_count": 64,
     "metadata": {},
     "output_type": "execute_result"
    }
   ],
   "source": [
    "acc = happiness_model.score(X_test,y_test)\n",
    "print('Accuracy of logistic regression classifier on test set {:.2f} '.format(happiness_model.score(X_test,y_test)))"
   ]
  },
  {
   "cell_type": "markdown",
   "metadata": {},
   "source": [
    "### Calculating Recall and Precision"
   ]
  },
  {
   "cell_type": "code",
   "execution_count": 42,
   "metadata": {},
   "outputs": [
    {
     "name": "stdout",
     "output_type": "stream",
     "text": [
      "             precision    recall  f1-score   support\n",
      "\n",
      "          1       0.78      0.62      0.69        29\n",
      "         10       0.76      0.79      0.78       251\n",
      "          2       0.36      0.24      0.29        21\n",
      "          3       0.49      0.31      0.38        55\n",
      "          4       0.39      0.39      0.39        69\n",
      "          5       0.54      0.52      0.53       122\n",
      "        5.5       0.00      0.00      0.00         4\n",
      "          6       0.37      0.39      0.38       144\n",
      "          7       0.52      0.48      0.50       351\n",
      "        7.5       0.80      0.67      0.73         6\n",
      "          8       0.58      0.57      0.58       534\n",
      "        8.5       1.00      0.50      0.67         4\n",
      "         88       0.00      0.00      0.00         1\n",
      "          9       0.53      0.68      0.60       282\n",
      "        9.5       0.00      0.00      0.00         4\n",
      "         NA       0.84      0.80      0.82        40\n",
      "\n",
      "avg / total       0.56      0.57      0.56      1917\n",
      "\n"
     ]
    },
    {
     "name": "stderr",
     "output_type": "stream",
     "text": [
      "/usr/local/lib/python3.5/dist-packages/sklearn/metrics/classification.py:1113: UndefinedMetricWarning: Precision and F-score are ill-defined and being set to 0.0 in labels with no predicted samples.\n",
      "  'precision', 'predicted', average, warn_for)\n"
     ]
    }
   ],
   "source": [
    "print (metrics.classification_report(y_test, Y_HAT))"
   ]
  },
  {
   "cell_type": "code",
   "execution_count": 66,
   "metadata": {},
   "outputs": [
    {
     "name": "stdout",
     "output_type": "stream",
     "text": [
      "Well done team\n"
     ]
    }
   ],
   "source": [
    "#this is assertion block which verifies the solution.\n",
    "\n",
    "try:\n",
    "    def verify_answer(x):\n",
    "\n",
    "         \n",
    "        if x > .50: \n",
    "            return True\n",
    "        else:\n",
    "            return False\n",
    "        \n",
    "\n",
    "    ref_assert_var = verify_answer(acc)\n",
    "except Exception as e:\n",
    "    print('Your assertion block throws error: ' + str(e))\n",
    "else:\n",
    "    if ref_assert_var:\n",
    "        print('Well done team')\n",
    "    else:\n",
    "        print('The answer did not pass the test.')"
   ]
  }
 ],
 "metadata": {
  "executed_sections": [],
  "kernelspec": {
   "display_name": "Python 3",
   "language": "python",
   "name": "python3"
  },
  "language_info": {
   "codemirror_mode": {
    "name": "ipython",
    "version": 3
   },
   "file_extension": ".py",
   "mimetype": "text/x-python",
   "name": "python",
   "nbconvert_exporter": "python",
   "pygments_lexer": "ipython3",
   "version": "3.5.2"
  }
 },
 "nbformat": 4,
 "nbformat_minor": 2
}
